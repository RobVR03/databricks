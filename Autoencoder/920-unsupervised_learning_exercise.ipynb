{
 "cells": [
  {
   "cell_type": "code",
   "execution_count": 0,
   "metadata": {
    "application/vnd.databricks.v1+cell": {
     "cellMetadata": {
      "byteLimit": 2048000,
      "rowLimit": 10000
     },
     "inputWidgets": {},
     "nuid": "74e2c4c8-8f25-408a-9800-e267b2bf76e8",
     "showTitle": false,
     "tableResultSettingsMap": {},
     "title": ""
    }
   },
   "outputs": [],
   "source": [
    "import os\n",
    "import random\n",
    "import pathlib\n",
    "import tempfile\n",
    "import time\n",
    "import copy\n",
    "import torch.optim.lr_scheduler as lr_scheduler\n",
    "from sklearn.metrics import classification_report\n",
    "import numpy as np\n",
    "from functools import partial\n",
    "from PIL import Image\n",
    "import torch\n",
    "import torch.nn as nn\n",
    "import torch.optim as optim\n",
    "from torchvision import transforms\n",
    "from torchvision.models import resnet18, ResNet18_Weights\n",
    "from sklearn.preprocessing import LabelEncoder\n",
    "from sklearn.model_selection import train_test_split\n",
    "from torch.utils.data import DataLoader, Dataset, Subset\n",
    "import matplotlib.pyplot as plt\n",
    "import pandas as pd\n",
    "import sklearn"
   ]
  },
  {
   "cell_type": "code",
   "execution_count": 0,
   "metadata": {
    "application/vnd.databricks.v1+cell": {
     "cellMetadata": {
      "byteLimit": 2048000,
      "rowLimit": 10000
     },
     "inputWidgets": {},
     "nuid": "792bfe25-d35c-4671-b36e-226976d2188a",
     "showTitle": false,
     "tableResultSettingsMap": {},
     "title": ""
    },
    "id": "7cSgQ6SVwo57"
   },
   "outputs": [],
   "source": [
    "import pandas as pd\n",
    "import matplotlib as mpl\n",
    "import matplotlib.pyplot as plt\n",
    "\n",
    "plt.rc('font', size=14)\n",
    "plt.rc('axes', labelsize=14, titlesize=14)\n",
    "plt.rc('legend', fontsize=14)\n",
    "plt.rc('xtick', labelsize=10)\n",
    "plt.rc('ytick', labelsize=10)\n",
    "\n",
    "# Common imports\n",
    "import numpy as np\n",
    "import os\n",
    "\n",
    "%pip install opencv-python\n"
   ]
  },
  {
   "cell_type": "code",
   "execution_count": 0,
   "metadata": {
    "application/vnd.databricks.v1+cell": {
     "cellMetadata": {
      "byteLimit": 2048000,
      "rowLimit": 10000
     },
     "inputWidgets": {},
     "nuid": "a8c9ea9e-0548-4b71-871e-a9688b268f5a",
     "showTitle": false,
     "tableResultSettingsMap": {},
     "title": ""
    }
   },
   "outputs": [],
   "source": [
    "BASE_DIR= pathlib.Path('/Volumes/pmr_dev/lead_ingots/lead_ingot_images')\n",
    "image_dir= BASE_DIR / 'Ingot'\n",
    "label_dir= BASE_DIR / 'Labels/Labels.csv'\n",
    "df = pd.read_csv(label_dir)\n",
    "display(df)"
   ]
  },
  {
   "cell_type": "code",
   "execution_count": 0,
   "metadata": {
    "application/vnd.databricks.v1+cell": {
     "cellMetadata": {
      "byteLimit": 2048000,
      "rowLimit": 10000
     },
     "inputWidgets": {},
     "nuid": "51798bf1-4731-4bae-88d1-ad96bdbc218f",
     "showTitle": false,
     "tableResultSettingsMap": {},
     "title": ""
    }
   },
   "outputs": [],
   "source": [
    "new_df = df[[\"Image\", \"Goede blok\"]]\n",
    "new_df.columns = ['Image', 'label']\n",
    "new_df['label'] = new_df['label'].replace({\"true\": 1, \"false\": 0})\n",
    "\n",
    "print(new_df)"
   ]
  },
  {
   "cell_type": "code",
   "execution_count": 0,
   "metadata": {
    "application/vnd.databricks.v1+cell": {
     "cellMetadata": {
      "byteLimit": 2048000,
      "rowLimit": 10000
     },
     "inputWidgets": {},
     "nuid": "ccfce23c-89e7-4124-9a18-94ff226e7a22",
     "showTitle": false,
     "tableResultSettingsMap": {},
     "title": ""
    }
   },
   "outputs": [],
   "source": [
    "import pandas as pd\n",
    "import numpy as np\n",
    "import cv2  # For image processing\n",
    "from sklearn.cluster import KMeans\n",
    "from sklearn.decomposition import PCA\n",
    "import matplotlib.pyplot as plt\n",
    "\n",
    "# Assuming df is your DataFrame with 'image' column containing file paths\n",
    "# and 'label' column containing the binary label ('Goede blok')\n",
    "\n",
    "# Step 1: Function to extract simple features (e.g., raw pixel values or histograms)\n",
    "def load_image(image_name):\n",
    "  image_path = image_dir / image_name\n",
    "  image = Image.open(image_path).convert('RGB')\n",
    "  return image\n",
    "# Load all images\n",
    "\n",
    "# Step 2: Apply the feature extraction function to all images in the DataFrame\n",
    "features = new_df['Image'].apply(load_image)\n",
    "\n",
    "# Step 3: Convert the list of features into a numpy array\n",
    "X = np.vstack(features)\n",
    "\n",
    "# Step 4: Apply PCA for dimensionality reduction (optional, but can help with clustering performance)\n",
    "pca = PCA(n_components=50)  # Reduce dimensions to 50 for simplicity\n",
    "X_pca = pca.fit_transform(X)\n",
    "\n",
    "# Step 5: Apply K-Means clustering\n",
    "kmeans = KMeans(n_clusters=2)  # Number of clusters (adjust as needed)\n",
    "new_df['cluster'] = kmeans.fit_predict(X_pca)\n",
    "\n",
    "# Step 6: Visualize the clusters (optional)\n",
    "plt.scatter(X_pca[:, 0], X_pca[:, 1], c=df['cluster'])\n",
    "plt.title('K-Means Clustering of Images')\n",
    "plt.show()\n",
    "\n",
    "# Now, the DataFrame will have a new column 'cluster' indicating the cluster each image belongs to.\n"
   ]
  }
 ],
 "metadata": {
  "application/vnd.databricks.v1+notebook": {
   "computePreferences": null,
   "dashboards": [],
   "environmentMetadata": null,
   "language": "python",
   "notebookMetadata": {
    "pythonIndentUnit": 2
   },
   "notebookName": "920-unsupervised_learning_exercise",
   "widgets": {}
  },
  "colab": {
   "provenance": []
  },
  "kernelspec": {
   "display_name": "Python 3",
   "language": "python",
   "name": "python3"
  },
  "language_info": {
   "name": "python"
  },
  "vscode": {
   "interpreter": {
    "hash": "79f22afa579cb20877eb7860ee2928c4e590dfb794dd3da5096bb7f945ed4800"
   }
  }
 },
 "nbformat": 4,
 "nbformat_minor": 0
}
